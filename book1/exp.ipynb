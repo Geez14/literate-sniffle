{
 "cells": [
  {
   "cell_type": "code",
   "execution_count": 66,
   "metadata": {},
   "outputs": [],
   "source": [
    "import numpy, torch, math, random\n",
    "import matplotlib.pyplot as plt"
   ]
  },
  {
   "cell_type": "markdown",
   "metadata": {},
   "source": [
    "# FREQUENCY based model"
   ]
  },
  {
   "cell_type": "code",
   "execution_count": 67,
   "metadata": {},
   "outputs": [],
   "source": [
    "def think(decision: int):\n",
    "    prob = likeyly_hood[decision]\n",
    "    return torch.multinomial(prob, num_samples=1)\n",
    "\n",
    "\n",
    "def update(result, bot_dec, hum_dec):\n",
    "    if result == 0:\n",
    "        likeyly_hood[bot_dec, hum_dec] += likeyly_hood[bot_dec, hum_dec] * 1\n",
    "        likeyly_hood[hum_dec, bot_dec] -= likeyly_hood[hum_dec, bot_dec] * 0.1\n",
    "    elif result == 1:\n",
    "        likeyly_hood[bot_dec, hum_dec] -= likeyly_hood[bot_dec, hum_dec] * 1\n",
    "        likeyly_hood[hum_dec, bot_dec] += likeyly_hood[hum_dec, hum_dec] * 0.1\n",
    "    elif result == -1:\n",
    "        likeyly_hood[bot_dec] += 0.1\n",
    "        likeyly_hood[hum_dec] += 0.2\n",
    "    return likeyly_hood / likeyly_hood.sum(dim=1, keepdim=True)\n",
    "\n",
    "\n",
    "likeyly_hood = torch.Tensor([[1, 1, 1], [1, 1, 1], [1, 1, 1]])\n",
    "category_to_data = {\"rock\": 0, \"paper\": 1, \"scissor\": 2}\n",
    "category_to_player = {\"bot\": 0, \"human\": 1}\n",
    "who_win = [\n",
    "    [-1, 1, 0],\n",
    "    [0, -1, 1],\n",
    "    [1, 0, -1],\n",
    "]"
   ]
  },
  {
   "cell_type": "code",
   "execution_count": null,
   "metadata": {},
   "outputs": [],
   "source": [
    "games = 0\n",
    "human = 0\n",
    "computer = 0\n",
    "likeyly_hood = torch.Tensor([[1, 1, 1], [1, 1, 1], [1, 1, 1]])\n",
    "category_to_data = {\"rock\": 0, \"paper\": 1, \"scissor\": 2}\n",
    "category_to_player = {\"bot\": 0, \"human\": 1}\n",
    "\n",
    "\n",
    "def update(result, bot_dec, hum_dec):\n",
    "    if result == 0:\n",
    "        likeyly_hood[bot_dec, hum_dec] += likeyly_hood[bot_dec, hum_dec] * 1\n",
    "        likeyly_hood[hum_dec, bot_dec] -= likeyly_hood[hum_dec, bot_dec] * 0.1\n",
    "    elif result == 1:\n",
    "        likeyly_hood[bot_dec, hum_dec] -= likeyly_hood[bot_dec, hum_dec] * 1\n",
    "        likeyly_hood[hum_dec, bot_dec] += likeyly_hood[hum_dec, hum_dec] * 0.1\n",
    "    elif result == -1:\n",
    "        likeyly_hood[bot_dec] += 0.1\n",
    "        likeyly_hood[hum_dec] += 0.2\n",
    "    return likeyly_hood / likeyly_hood.sum(dim=1, keepdim=True)\n",
    "\n",
    "who_win = [\n",
    "    [-1, 1, 0],\n",
    "    [0, -1, 1],\n",
    "    [1, 0, -1],\n",
    "]\n",
    "print(category_to_data)\n",
    "while False:\n",
    "    try:\n",
    "        hum = int(input())\n",
    "        bot = think(hum)\n",
    "        result = who_win[bot][hum]\n",
    "        if result == 0:\n",
    "            print(\"you loose\")\n",
    "            computer += 1\n",
    "        elif result == 1:\n",
    "            print(\"you win\")\n",
    "            human += 1\n",
    "        else:\n",
    "            print(\"tie\")\n",
    "        likeyly_hood = update(result, bot, hum)\n",
    "        games += 1\n",
    "    except Exception:\n",
    "        break\n",
    "print(f\"total{games=}\")\n",
    "print(f\"scored, {human=}\")\n",
    "print(f\"scored, bot{computer=}\")"
   ]
  },
  {
   "cell_type": "code",
   "execution_count": null,
   "metadata": {},
   "outputs": [],
   "source": [
    "print(likeyly_hood)"
   ]
  },
  {
   "cell_type": "code",
   "execution_count": 111,
   "metadata": {},
   "outputs": [],
   "source": [
    "# memory\n",
    "games = 0\n",
    "human = 0\n",
    "computer = 0\n",
    "\n",
    "# Initialize likelihood with equal probability for each move\n",
    "likelihood = torch.Tensor([[1, 1, 1], [1, 1, 1], [1, 1, 1]])"
   ]
  },
  {
   "cell_type": "code",
   "execution_count": null,
   "metadata": {},
   "outputs": [],
   "source": [
    "category_to_data = {\"rock\": 0, \"paper\": 1, \"scissor\": 2}\n",
    "category_to_player = {\"bot\": 0, \"human\": 1}\n",
    "\n",
    "\n",
    "@torch.no_grad()\n",
    "def update(result, bot_dec, hum_dec):\n",
    "    \"\"\"\n",
    "    Updates the likelihood matrix based on the result of the game.\n",
    "    result: 0 (loss), 1 (win), -1 (tie)\n",
    "    bot_dec: bot's move (0 = rock, 1 = paper, 2 = scissors)\n",
    "    hum_dec: human's move (0 = rock, 1 = paper, 2 = scissors)\n",
    "    \"\"\"\n",
    "    if result == 0:  # Bot wins\n",
    "        likelihood[bot_dec, hum_dec] += likelihood[bot_dec, hum_dec] * 0.1\n",
    "        likelihood[hum_dec, bot_dec] -= likelihood[hum_dec, bot_dec] * 0.1\n",
    "    elif result == 1:  # Human wins\n",
    "        likelihood[bot_dec, hum_dec] -= likelihood[bot_dec, hum_dec] * 0.1\n",
    "        likelihood[hum_dec, bot_dec] += likelihood[hum_dec, bot_dec] * 0.1\n",
    "    elif result == -1:  # Tie\n",
    "        likelihood[bot_dec] += 0.1\n",
    "        likelihood[hum_dec] += 0.1\n",
    "\n",
    "    # Normalize the likelihood to maintain probabilities\n",
    "    ll = likelihood / likelihood.sum(dim=1, keepdim=True)\n",
    "    return ll\n",
    "\n",
    "\n",
    "@torch.no_grad()\n",
    "def think(dec):\n",
    "    \"\"\"\n",
    "    Bot makes a decision based on the likelihood matrix.\n",
    "    hum_dec: The human's last move (0 = rock, 1 = paper, 2 = scissors)\n",
    "    \"\"\"\n",
    "    # Use the likelihood matrix to predict the player's next move\n",
    "    next_move_probs = likelihood[dec]\n",
    "    next_move = torch.multinomial(next_move_probs, 1).item()\n",
    "    return next_move\n",
    "\n",
    "\n",
    "who_win = [\n",
    "    [-1, 1, 0],  # Rock vs (Rock, Paper, Scissors) -> (tie, loss, win)\n",
    "    [0, -1, 1],  # Paper vs (Rock, Paper, Scissors) -> (win, tie, loss)\n",
    "    [1, 0, -1],  # Scissors vs (Rock, Paper, Scissors) -> (loss, win, tie)\n",
    "]\n",
    "\n",
    "print(\"Enter 0 for Rock, 1 for Paper, 2 for Scissors\")\n",
    "ix = 0\n",
    "while True:\n",
    "    try:\n",
    "        bot = think(ix)\n",
    "        hum = int(input(\"Your move (0 = Rock, 1 = Paper, 2 = Scissors): \"))\n",
    "        if hum not in [0, 1, 2]:\n",
    "            print(\"Invalid input. Please enter 0, 1, or 2.\")\n",
    "            continue\n",
    "        result = who_win[bot][hum]\n",
    "        if result == 0:\n",
    "            print(\"You lose! Bot chose\", list(category_to_data.keys())[bot])\n",
    "            computer += 1\n",
    "        elif result == 1:\n",
    "            print(\"You win! Bot chose\", list(category_to_data.keys())[bot])\n",
    "            human += 1\n",
    "        else:\n",
    "            print(\"It's a tie! Bot chose\", list(category_to_data.keys())[bot])\n",
    "\n",
    "        likelihood = update(result, bot, hum)\n",
    "        ix = hum\n",
    "        games += 1\n",
    "    except Exception as e:\n",
    "        print(\"Error occurred. Exiting game.\", e)\n",
    "        break\n",
    "\n",
    "print(f\"Total games played: {games}\")\n",
    "print(f\"Human score: {human}\")\n",
    "print(f\"Bot score: {computer}\")"
   ]
  },
  {
   "cell_type": "code",
   "execution_count": null,
   "metadata": {},
   "outputs": [],
   "source": [
    "likelihood"
   ]
  },
  {
   "cell_type": "code",
   "execution_count": 221,
   "metadata": {},
   "outputs": [
    {
     "data": {
      "image/png": "[encoded data removed]",
      "text/plain": [
       "<Figure size 640x480 with 3 Axes>"
      ]
     },
     "metadata": {},
     "output_type": "display_data"
    }
   ],
   "source": [
    "\n",
    "x = likelihood\n",
    "label = [\"rock\", \"paper\", \"scissior\"]\n",
    "fig, axs = plt.subplot_mosaic([[\"rock\", \"paper\"],[\"scissor\", \"paper\"]])\n",
    "fig.suptitle(\"X vs Y\")\n",
    "for index, ax in enumerate(axs.values()):\n",
    "  ax.plot(label, x[:, index], label=label[index])\n",
    "  ax.legend()\n"
   ]
  },
  {
   "cell_type": "markdown",
   "metadata": {},
   "source": [
    "# MLP approach"
   ]
  },
  {
   "cell_type": "markdown",
   "metadata": {},
   "source": [
    "Will use:\n",
    "\n",
    "- 3, 30 input neurons,\n",
    "- 30, 20\n",
    "- 20, 3\n",
    "- cross_entropy"
   ]
  },
  {
   "cell_type": "code",
   "execution_count": 73,
   "metadata": {},
   "outputs": [],
   "source": [
    "model = torch.nn.Sequential(\n",
    "torch.nn.Embedding(3, 2),\n",
    "torch.nn.Flatten(),\n",
    "torch.nn.Linear(in_features=2, out_features=30, bias=True),\n",
    "torch.nn.Tanh(),\n",
    "torch.nn.Linear(in_features=30, out_features=3, bias=False),\n",
    ")"
   ]
  },
  {
   "cell_type": "code",
   "execution_count": null,
   "metadata": {},
   "outputs": [],
   "source": [
    "model(torch.tensor([1,2]))"
   ]
  },
  {
   "cell_type": "markdown",
   "metadata": {},
   "source": [
    "### Experiment"
   ]
  },
  {
   "cell_type": "code",
   "execution_count": 75,
   "metadata": {},
   "outputs": [],
   "source": [
    "magic = torch.tensor([[0, 1, 2], [1, 2, 0], [2, 0, 1]])\n",
    "out = torch.tensor(who_win)\n",
    "C = torch.rand(3, 2)\n",
    "Xb = C[[0]]\n",
    "W1 = torch.randn(2, 30) / (math.sqrt(3))\n",
    "bais = torch.randn(1, 30)\n",
    "W2 = torch.randn(30, 3)"
   ]
  },
  {
   "cell_type": "code",
   "execution_count": 76,
   "metadata": {},
   "outputs": [],
   "source": [
    "l1 = (Xb@W1 + bais).tanh()\n",
    "l2 = l1 @ W2"
   ]
  },
  {
   "cell_type": "code",
   "execution_count": null,
   "metadata": {},
   "outputs": [],
   "source": [
    "c = l2.exp()\n",
    "prob = c/c.sum(1, keepdim=True)\n",
    "prob"
   ]
  },
  {
   "cell_type": "code",
   "execution_count": 78,
   "metadata": {},
   "outputs": [],
   "source": [
    "def predict(ix:torch.Tensor)->torch.Tensor:\n",
    "  Xb = C[[ix]]\n",
    "  l1 = (Xb@W1) + bais\n",
    "  logits = l1 @ W2\n",
    "  return torch.nn.functional.softmax(l2, 1)\n",
    "\n",
    "# def backward_pass(guessed:int, probabilities:torch.Tensor):\n",
    "  # loss = -torch.log(probabilities[0, guessed]).mean()\n",
    "  # loss.backward()"
   ]
  },
  {
   "cell_type": "code",
   "execution_count": null,
   "metadata": {},
   "outputs": [],
   "source": [
    "plt.plot(sorted(l1.view(-1).tolist()))"
   ]
  },
  {
   "cell_type": "code",
   "execution_count": 80,
   "metadata": {},
   "outputs": [],
   "source": [
    "# Respectable!"
   ]
  },
  {
   "cell_type": "markdown",
   "metadata": {},
   "source": [
    "### Version1 Simple!"
   ]
  },
  {
   "cell_type": "code",
   "execution_count": 164,
   "metadata": {},
   "outputs": [],
   "source": [
    "# initialization of weights\n",
    "# -_________A.I memory_______-#\n",
    "n_embed = 2\n",
    "move_to_guess = 1\n",
    "initial_guess = 0\n",
    "total_moves = 3\n",
    "n_hidden = 30\n",
    "\n",
    "# -_________Game-analysis-memory_________-#\n",
    "W1 = torch.nn.init.kaiming_normal_(\n",
    "    torch.randn(total_moves, n_hidden), nonlinearity=\"tanh\"\n",
    ")\n",
    "bais1 = torch.randn(1, n_hidden) * 0.01  # magical number\n",
    "W2 = torch.randn(n_hidden, total_moves)/math.sqrt(n_hidden) # apply the kaiming fan_in only not the gain!\n",
    "paramters = [W1, bais1, W2]\n",
    "for p in paramters:\n",
    "  p.requires_grad = True"
   ]
  },
  {
   "cell_type": "code",
   "execution_count": null,
   "metadata": {},
   "outputs": [],
   "source": [
    "# Game!\n",
    "lossi = []\n",
    "ix = initial_guess\n",
    "while True:\n",
    "  # forward pass\n",
    "  # embed = C[[ix]]\n",
    "  hpreact = W1[ix] + bais1\n",
    "  h = hpreact.tanh()\n",
    "  logits = h@W2\n",
    "  loss = torch.nn.functional.cross_entropy(logits, torch.tensor([ix]))\n",
    "  probs = torch.nn.functional.softmax(logits, 1)\n",
    "  # Now main work!\n",
    "  bot_guess = torch.multinomial(probs, num_samples=move_to_guess)\n",
    "  human_showed = None\n",
    "\n",
    "  while True:\n",
    "    try:\n",
    "      human_showed = int(input(\"Enter(0.rock), (1.paper), (2.scissor): \"))\n",
    "      if human_showed > 3 and human_showed < 0:\n",
    "        print(\"Ivalid!\")\n",
    "      else:\n",
    "        break\n",
    "    except Exception:\n",
    "      exit(-1)\n",
    "  \n",
    "  # rewarding_time (backward_pass)\n",
    "  for p in paramters:\n",
    "    p.grad = None\n",
    "  loss.backward()\n",
    "\n",
    "  ix = human_showed\n",
    "\n",
    "  # if the guess is correct improve the probability!\n",
    "  lr = 0.1 if human_showed == bot_guess[0,0] else -0.05\n",
    "\n",
    "  # gradient clipping\n",
    "  torch.nn.utils.clip_grad_norm_(parameters=paramters, max_norm=1.0)\n",
    "\n",
    "  # update\n",
    "  for p in paramters:\n",
    "    p.data += -lr * p.grad\n",
    "\n",
    "  lossi.append(loss.log10())\n",
    "  print(f\"bot_guess={bot_guess[0,0]}, {human_showed=}\")\n",
    "  # break"
   ]
  },
  {
   "cell_type": "code",
   "execution_count": null,
   "metadata": {},
   "outputs": [],
   "source": [
    "a = W1\n",
    "# plt.plot(torch.tensor(lossi).detach())\n",
    "# plt.plot(W1.detach());"
   ]
  },
  {
   "cell_type": "markdown",
   "metadata": {},
   "source": [
    "### Version2 with little bit of context"
   ]
  },
  {
   "cell_type": "code",
   "execution_count": 217,
   "metadata": {},
   "outputs": [],
   "source": [
    "context_size = 10  # remember 10 move to accuire pattern\n",
    "context = [0] * context_size\n",
    "n_embed = 3\n",
    "initial_guess = 0\n",
    "move_to_guess = 1\n",
    "total_moves = 3\n",
    "n_hidden = 30\n",
    "\n",
    "# -_________Game-analysis-memory_________-#\n",
    "C = torch.randn(3, 3)\n",
    "W1 = torch.nn.init.kaiming_normal_(\n",
    "    torch.randn(context_size*n_embed, n_hidden), nonlinearity=\"tanh\"\n",
    ")\n",
    "bais1 = torch.randn(1, n_hidden) * 0.01  # magical number\n",
    "W2 = torch.randn(n_hidden, total_moves) / math.sqrt(\n",
    "    n_hidden\n",
    ")  # apply the kaiming fan_in only not the gain!\n",
    "paramters = [C, W1, bais1, W2]\n",
    "for p in paramters:\n",
    "    p.requires_grad = True"
   ]
  },
  {
   "cell_type": "code",
   "execution_count": 219,
   "metadata": {},
   "outputs": [
    {
     "name": "stdout",
     "output_type": "stream",
     "text": [
      "[0, 0, 0, 1, 1, 1, 0, 2, 1, 1]\n",
      "bot_guess=0, human_showed=1\n",
      "[0, 0, 1, 1, 1, 0, 2, 1, 1, 2]\n",
      "bot_guess=2, human_showed=2\n",
      "[0, 1, 1, 1, 0, 2, 1, 1, 2, 2]\n",
      "bot_guess=0, human_showed=2\n",
      "[1, 1, 1, 0, 2, 1, 1, 2, 2, 1]\n",
      "bot_guess=1, human_showed=1\n",
      "[1, 1, 0, 2, 1, 1, 2, 2, 1, 1]\n",
      "bot_guess=2, human_showed=1\n",
      "[1, 0, 2, 1, 1, 2, 2, 1, 1, 2]\n",
      "bot_guess=1, human_showed=2\n",
      "[0, 2, 1, 1, 2, 2, 1, 1, 2, 0]\n",
      "bot_guess=1, human_showed=0\n",
      "Exiting...\n",
      "Thanku for playing this game.\n"
     ]
    }
   ],
   "source": [
    "# Game!\n",
    "lossi = []\n",
    "last_context = context[-1]\n",
    "while True:\n",
    "    # forward pass\n",
    "    Xb = torch.tensor(context)\n",
    "    hpreact = C[Xb].view(1, -1) @ W1 + bais1\n",
    "    h = hpreact.tanh()\n",
    "    logits = h @ W2\n",
    "    loss = torch.nn.functional.cross_entropy(logits, torch.tensor([last_context]))\n",
    "    probs = torch.nn.functional.softmax(logits, 1)\n",
    "    # Now main work!\n",
    "    bot_guess = torch.multinomial(probs, num_samples=move_to_guess)\n",
    "    human_showed = None\n",
    "\n",
    "    signal_exit = False\n",
    "    while True:\n",
    "        try:\n",
    "            human_showed = int(input(\"Enter(0.rock), (1.paper), (2.scissor): \"))\n",
    "            if human_showed not in [0, 1, 2]:\n",
    "                print(\"Ivalid!\")\n",
    "            else:\n",
    "                break\n",
    "        except Exception:\n",
    "            print(\"Exiting...\")\n",
    "            signal_exit = True\n",
    "            break\n",
    "    if signal_exit:\n",
    "        break\n",
    "\n",
    "    # rewarding_time (backward_pass)\n",
    "    for p in paramters:\n",
    "        p.grad = None\n",
    "    loss.backward()\n",
    "    last_context = human_showed\n",
    "    context = context[1:] + [last_context]\n",
    "\n",
    "    print(context)\n",
    "\n",
    "    # if the guess is correct improve the probability!\n",
    "    lr = 0.1 if human_showed == bot_guess[0, 0] else -0.05\n",
    "\n",
    "    # gradient clipping\n",
    "    torch.nn.utils.clip_grad_norm_(parameters=paramters, max_norm=1.0)\n",
    "\n",
    "    # update\n",
    "    for p in paramters:\n",
    "        p.data += -lr * p.grad\n",
    "\n",
    "    lossi.append(loss.log10())\n",
    "    print(f\"bot_guess={bot_guess[0,0]}, {human_showed=}\")\n",
    "print(\"Thanku for playing this game.\")"
   ]
  },
  {
   "cell_type": "markdown",
   "metadata": {},
   "source": [
    "# Experiments With Weight"
   ]
  },
  {
   "cell_type": "code",
   "execution_count": 47,
   "metadata": {},
   "outputs": [],
   "source": [
    "a = torch.rand(30, 3)\n",
    "b = torch.nn.init.kaiming_normal_(a.clone(), nonlinearity=\"tanh\")"
   ]
  },
  {
   "cell_type": "code",
   "execution_count": null,
   "metadata": {},
   "outputs": [],
   "source": [
    "plt.plot(sorted(a.view(-1).tolist()), label=\"randn\")\n",
    "plt.plot(sorted(b.view(-1).tolist()), label=\"kaiming_normal\")\n",
    "plt.legend()\n",
    "print(a.std(), b.std())"
   ]
  }
 ],
 "metadata": {
  "kernelspec": {
   "display_name": "venv",
   "language": "python",
   "name": "python3"
  },
  "language_info": {
   "codemirror_mode": {
    "name": "ipython",
    "version": 3
   },
   "file_extension": ".py",
   "mimetype": "text/x-python",
   "name": "python",
   "nbconvert_exporter": "python",
   "pygments_lexer": "ipython3",
   "version": "3.11.0"
  }
 },
 "nbformat": 4,
 "nbformat_minor": 2
}
