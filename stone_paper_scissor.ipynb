{
 "cells": [
  {
   "cell_type": "code",
   "execution_count": 43,
   "metadata": {},
   "outputs": [],
   "source": [
    "import numpy, torch, math, random\n",
    "import matplotlib.pyplot as plt"
   ]
  },
  {
   "cell_type": "markdown",
   "metadata": {},
   "source": [
    "# S-P-S Stone Paper Scissor"
   ]
  },
  {
   "cell_type": "markdown",
   "metadata": {},
   "source": [
    "### 1. **Histogram_based_model**"
   ]
  },
  {
   "cell_type": "code",
   "execution_count": 77,
   "metadata": {},
   "outputs": [],
   "source": [
    "# memory\n",
    "games = 0\n",
    "human = 0\n",
    "computer = 0\n",
    "\n",
    "# Initialize likelihood with equal probability for each move\n",
    "bot_played = {\"rock\":0, \"paper\":0, \"scissor\":0}\n",
    "hum_played = {\"rock\":0, \"paper\":0, \"scissor\":0}\n",
    "likelihood = torch.Tensor([[1, 1, 1], [1, 1, 1], [1, 1, 1]])"
   ]
  },
  {
   "cell_type": "code",
   "execution_count": 78,
   "metadata": {},
   "outputs": [],
   "source": [
    "# utility\n",
    "code_to_move = {0: \"rock\", 1: \"paper\", 2: \"scissor\"}\n",
    "move_to_code = {\"rock\": 0, \"paper\": 1, \"scissor\": 2}\n",
    "player_to_code = {\"bot\": 0, \"human\": 1}\n",
    "code_to_player = {0: \"bot\", 1: \"human\"}\n",
    "\n",
    "\n",
    "@torch.no_grad()\n",
    "def update(result, bot_dec, hum_dec):\n",
    "    \"\"\"\n",
    "    Updates the likelihood matrix based on the result of the game.\n",
    "    result: 0 (loss), 1 (win), -1 (tie)\n",
    "    bot_dec: bot's move (0 = rock, 1 = paper, 2 = scissors)\n",
    "    hum_dec: human's move (0 = rock, 1 = paper, 2 = scissors)\n",
    "    \"\"\"\n",
    "    lr = 0.1 / (1 + games * 0.001)\n",
    "    if result == 0:  # Bot wins\n",
    "        likelihood[bot_dec, hum_dec] += likelihood[bot_dec, hum_dec] * lr\n",
    "        likelihood[hum_dec, bot_dec] -= likelihood[hum_dec, bot_dec] * lr\n",
    "    elif result == 1:  # Human wins\n",
    "        likelihood[bot_dec, hum_dec] -= likelihood[bot_dec, hum_dec] * lr\n",
    "        likelihood[hum_dec, bot_dec] += likelihood[hum_dec, bot_dec] * lr\n",
    "    elif result == -1:  # Tie\n",
    "        likelihood[bot_dec] += lr\n",
    "        likelihood[hum_dec] += lr\n",
    "\n",
    "    # Normalize the likelihood to maintain probabilities\n",
    "    ll = likelihood / likelihood.sum(dim=1, keepdim=True)\n",
    "    return ll\n",
    "\n",
    "\n",
    "@torch.no_grad()\n",
    "def think(dec):\n",
    "    \"\"\"\n",
    "    Bot makes a decision based on the likelihood matrix.\n",
    "    hum_dec: The human's last move (0 = rock, 1 = paper, 2 = scissors)\n",
    "    \"\"\"\n",
    "    # Use the likelihood matrix to predict the player's next move\n",
    "    next_move_probs = likelihood[dec]\n",
    "    next_move = torch.multinomial(next_move_probs, 1).item()\n",
    "    return next_move\n",
    "\n",
    "\n",
    "who_win = [\n",
    "    [-1, 1, 0],  # Rock vs (Rock, Paper, Scissors) -> (tie, loss, win)\n",
    "    [0, -1, 1],  # Paper vs (Rock, Paper, Scissors) -> (win, tie, loss)\n",
    "    [1, 0, -1],  # Scissors vs (Rock, Paper, Scissors) -> (loss, win, tie)\n",
    "]"
   ]
  },
  {
   "cell_type": "code",
   "execution_count": 79,
   "metadata": {},
   "outputs": [
    {
     "name": "stdout",
     "output_type": "stream",
     "text": [
      "Enter 0 for Rock, 1 for Paper, 2 for Scissors\n",
      "You choosed: paper\n",
      "You lose! Bot chose scissor\n",
      "You choosed: scissor\n",
      "You lose! Bot chose rock\n",
      "You choosed: paper\n",
      "You lose! Bot chose scissor\n",
      "You choosed: paper\n",
      "You lose! Bot chose scissor\n",
      "You choosed: paper\n",
      "You win! Bot chose rock\n",
      "You choosed: paper\n",
      "You win! Bot chose rock\n",
      "You choosed: paper\n",
      "It's a tie! Bot chose paper\n",
      "You choosed: paper\n",
      "You win! Bot chose rock\n",
      "You choosed: paper\n",
      "You lose! Bot chose scissor\n",
      "You choosed: paper\n",
      "It's a tie! Bot chose paper\n",
      "You choosed: paper\n",
      "You win! Bot chose rock\n",
      "You choosed: paper\n",
      "You win! Bot chose rock\n",
      "You choosed: scissor\n",
      "You lose! Bot chose rock\n",
      "You choosed: rock\n",
      "You win! Bot chose scissor\n",
      "You choosed: rock\n",
      "You win! Bot chose scissor\n",
      "You choosed: rock\n",
      "You win! Bot chose scissor\n",
      "You choosed: paper\n",
      "It's a tie! Bot chose paper\n",
      "You choosed: scissor\n",
      "You win! Bot chose paper\n",
      "You choosed: paper\n",
      "It's a tie! Bot chose paper\n",
      "You choosed: rock\n",
      "You win! Bot chose scissor\n",
      "You choosed: paper\n",
      "You lose! Bot chose scissor\n",
      "You choosed: rock\n",
      "You lose! Bot chose paper\n",
      "You choosed: paper\n",
      "You win! Bot chose rock\n",
      "You choosed: rock\n",
      "It's a tie! Bot chose rock\n",
      "You choosed: paper\n",
      "You lose! Bot chose scissor\n",
      "You choosed: rock\n",
      "It's a tie! Bot chose rock\n",
      "You choosed: scissor\n",
      "It's a tie! Bot chose scissor\n",
      "You choosed: paper\n",
      "You win! Bot chose rock\n",
      "You choosed: rock\n",
      "It's a tie! Bot chose rock\n",
      "You choosed: paper\n",
      "You win! Bot chose rock\n",
      "You choosed: scissor\n",
      "You lose! Bot chose rock\n",
      "You choosed: rock\n",
      "You lose! Bot chose paper\n",
      "You choosed: paper\n",
      "You win! Bot chose rock\n",
      "You choosed: scissor\n",
      "You win! Bot chose paper\n",
      "You choosed: rock\n",
      "You win! Bot chose scissor\n",
      "You choosed: paper\n",
      "You win! Bot chose rock\n",
      "You choosed: scissor\n",
      "You win! Bot chose paper\n",
      "You choosed: paper\n",
      "You lose! Bot chose scissor\n",
      "You choosed: rock\n",
      "It's a tie! Bot chose rock\n",
      "You choosed: scissor\n",
      "It's a tie! Bot chose scissor\n",
      "You choosed: paper\n",
      "You lose! Bot chose scissor\n",
      "Error occurred. Exiting game. invalid literal for int() with base 10: ''\n"
     ]
    }
   ],
   "source": [
    "# game\n",
    "print(\"Enter 0 for Rock, 1 for Paper, 2 for Scissors\")\n",
    "ix = 0\n",
    "while True:\n",
    "    try:\n",
    "        bot = think(ix)\n",
    "        hum = int(input(\"Your move (0 = Rock, 1 = Paper, 2 = Scissors): \"))\n",
    "        if hum not in [0, 1, 2]:\n",
    "            print(\"Invalid input. Please enter 0, 1, or 2.\")\n",
    "            continue\n",
    "\n",
    "        # Tracking\n",
    "        bot_played[code_to_move[bot]] = bot_played.get(code_to_move[bot], 0) + 1\n",
    "        hum_played[code_to_move[hum]] = hum_played.get(code_to_move[hum], 0) + 1\n",
    "\n",
    "        result = who_win[bot][hum]\n",
    "        print(\"You choosed: \"+code_to_move[hum])\n",
    "        if result == 0:\n",
    "            print(\"You lose! Bot chose\", code_to_move[bot])\n",
    "            computer += 1\n",
    "        elif result == 1:\n",
    "            print(\"You win! Bot chose\", code_to_move[bot])\n",
    "            human += 1\n",
    "        else:\n",
    "            print(\"It's a tie! Bot chose\", code_to_move[bot])\n",
    "\n",
    "        likelihood = update(result, bot, hum)\n",
    "        ix = hum\n",
    "        games += 1\n",
    "    except Exception as e:\n",
    "        print(\"Error occurred. Exiting game.\", e)\n",
    "        break"
   ]
  },
  {
   "cell_type": "code",
   "execution_count": 80,
   "metadata": {},
   "outputs": [
    {
     "name": "stdout",
     "output_type": "stream",
     "text": [
      "Total games played: 41\n",
      "Human score: 18\n",
      "Bot score: 13\n"
     ]
    }
   ],
   "source": [
    "# logs\n",
    "print(f\"Total games played: {games}\")\n",
    "print(f\"Human score: {human}\")\n",
    "print(f\"Bot score: {computer}\")"
   ]
  },
  {
   "cell_type": "code",
   "execution_count": 81,
   "metadata": {},
   "outputs": [
    {
     "data": {
      "image/png": "[encoded data removed]",
      "text/plain": [
       "<Figure size 640x480 with 3 Axes>"
      ]
     },
     "metadata": {},
     "output_type": "display_data"
    }
   ],
   "source": [
    "# analysing memory\n",
    "x = likelihood\n",
    "label = [\"rock\", \"paper\", \"scissior\"]\n",
    "fig, axs = plt.subplot_mosaic([[\"rock\", \"paper\"],[\"scissor\", \"paper\"]])\n",
    "fig.suptitle(\"X vs Y\")\n",
    "for index, ax in enumerate(axs.values()):\n",
    "  ax.plot(label, x[:, index], label=label[index])\n",
    "  ax.legend()"
   ]
  },
  {
   "cell_type": "code",
   "execution_count": 85,
   "metadata": {},
   "outputs": [
    {
     "data": {
      "image/png": "[encoded data removed]",
      "text/plain": [
       "<Figure size 640x480 with 2 Axes>"
      ]
     },
     "metadata": {},
     "output_type": "display_data"
    }
   ],
   "source": [
    "fig, axs = plt.subplot_mosaic([[\"t\",\"t\"],[\"b\",\"b\"]])\n",
    "fig.suptitle(\"Histogram move data\")\n",
    "axs['t'].set_title('Bot:', loc='left', fontstyle='oblique', fontsize='medium')\n",
    "axs[\"t\"].bar(bot_played.keys(), bot_played.values(), color=['blue', 'green', 'red'])\n",
    "axs['b'].set_title('Human:', loc='left', fontstyle='oblique', fontsize='medium')\n",
    "axs[\"b\"].bar(hum_played.keys(), hum_played.values(), color=['blue', 'green', 'red'])\n",
    "plt.show()"
   ]
  },
  {
   "cell_type": "markdown",
   "metadata": {
    "vscode": {
     "languageId": "markdown"
    }
   },
   "source": [
    "### Conclusion\n",
    "\n",
    "Based on the probabilistic model for Stone Paper Scissors, we can conclude that the more you play with the bot, the more difficult it becomes to win against it. This is due to the overfitting of data, where the bot continuously updates its likelihood matrix based on the outcomes of previous games. As a result, the bot is likely to choose the move that is most suitable to win against your previous move. This adaptive strategy allows the bot to improve its chances of winning over time, making it a more challenging opponent as the number of games increases.\n",
    "\n",
    "> This model is based on the bigram model, where the next input is choosen based on the likely hood of the next gussed move.\n",
    "\n",
    "The bot learns dynamically using a simple probabilistic model and improves its predictions based on the previous human move."
   ]
  },
  {
   "cell_type": "markdown",
   "metadata": {},
   "source": [
    "### 2. **MLP approach**"
   ]
  },
  {
   "cell_type": "code",
   "execution_count": 86,
   "metadata": {},
   "outputs": [],
   "source": [
    "# initialization of weights\n",
    "# -_________A.I memory_______-#\n",
    "move_to_guess = 1\n",
    "initial_guess = 0\n",
    "total_moves = 3\n",
    "n_hidden = 30\n",
    "\n",
    "# -_________Game-analysis-memory_________-#\n",
    "W1 = torch.nn.init.kaiming_normal_(\n",
    "    torch.randn(total_moves, n_hidden), nonlinearity=\"tanh\"\n",
    ")\n",
    "bais1 = torch.randn(1, n_hidden) * 0.01  # magical number\n",
    "W2 = torch.randn(n_hidden, total_moves)/math.sqrt(n_hidden) # apply the kaiming fan_in only not the gain!\n",
    "paramters = [W1, bais1, W2]\n",
    "for p in paramters:\n",
    "  p.requires_grad = True"
   ]
  },
  {
   "cell_type": "code",
   "execution_count": 88,
   "metadata": {},
   "outputs": [
    {
     "name": "stdout",
     "output_type": "stream",
     "text": [
      "bot_guess=2, human_showed=1\n",
      "bot_guess=0, human_showed=2\n",
      "bot_guess=2, human_showed=0\n",
      "bot_guess=2, human_showed=1\n",
      "bot_guess=2, human_showed=2\n",
      "bot_guess=1, human_showed=1\n",
      "bot_guess=1, human_showed=0\n",
      "bot_guess=2, human_showed=1\n",
      "bot_guess=0, human_showed=2\n",
      "bot_guess=0, human_showed=1\n",
      "bot_guess=0, human_showed=0\n",
      "bot_guess=2, human_showed=1\n",
      "bot_guess=1, human_showed=2\n",
      "bot_guess=0, human_showed=1\n"
     ]
    }
   ],
   "source": [
    "# Game!\n",
    "lossi = []\n",
    "ix = initial_guess\n",
    "while True:\n",
    "  # forward pass\n",
    "  # embed = C[[ix]]\n",
    "  hpreact = W1[ix] + bais1\n",
    "  h = hpreact.tanh()\n",
    "  logits = h@W2\n",
    "  loss = torch.nn.functional.cross_entropy(logits, torch.tensor([ix]))\n",
    "  probs = torch.nn.functional.softmax(logits, 1)\n",
    "  # Now main work!\n",
    "  bot_guess = torch.multinomial(probs, num_samples=move_to_guess)\n",
    "  human_showed = None\n",
    "\n",
    "  signal_exit = False\n",
    "  while True:\n",
    "    try:\n",
    "      human_showed = int(input(\"Enter(0.rock), (1.paper), (2.scissor): \"))\n",
    "      if human_showed > 3 and human_showed < 0:\n",
    "        print(\"Ivalid!\")\n",
    "      else:\n",
    "        break\n",
    "    except Exception:\n",
    "      signal_exit = True\n",
    "      break;\n",
    "\n",
    "  if signal_exit:\n",
    "    break; \n",
    "\n",
    "  # rewarding_time (backward_pass)\n",
    "  for p in paramters:\n",
    "    p.grad = None\n",
    "  loss.backward()\n",
    "\n",
    "  ix = human_showed\n",
    "\n",
    "  # if the guess is correct improve the probability!\n",
    "  lr = 0.1 if human_showed == bot_guess[0,0] else -0.05\n",
    "\n",
    "  # gradient clipping\n",
    "  torch.nn.utils.clip_grad_norm_(parameters=paramters, max_norm=1.0)\n",
    "\n",
    "  # update\n",
    "  for p in paramters:\n",
    "    p.data += -lr * p.grad\n",
    "\n",
    "  lossi.append(loss.log10())\n",
    "  print(f\"bot_guess={bot_guess[0,0]}, {human_showed=}\")\n",
    "  # break"
   ]
  },
  {
   "cell_type": "markdown",
   "metadata": {},
   "source": [
    "### version2 **MLP approach**"
   ]
  },
  {
   "cell_type": "code",
   "execution_count": 105,
   "metadata": {},
   "outputs": [],
   "source": [
    "context_size = 10  # remember 10 move to accuire pattern\n",
    "context = [0] * context_size\n",
    "n_embed = 3\n",
    "initial_guess = 0\n",
    "move_to_guess = 1\n",
    "total_moves = 3\n",
    "n_hidden = 30\n",
    "\n",
    "# -_________Game-analysis-memory_________-#\n",
    "C = torch.randn(3, 3)\n",
    "W1 = torch.nn.init.kaiming_normal_(\n",
    "    torch.randn(context_size*n_embed, n_hidden), nonlinearity=\"tanh\"\n",
    ")\n",
    "bais1 = torch.randn(1, n_hidden) * 0.01  # magical number\n",
    "W2 = torch.randn(n_hidden, total_moves) / math.sqrt(\n",
    "    n_hidden\n",
    ")  # apply the kaiming fan_in only not the gain!\n",
    "paramters = [C, W1, bais1, W2]\n",
    "for p in paramters:\n",
    "    p.requires_grad = True"
   ]
  },
  {
   "cell_type": "code",
   "execution_count": 111,
   "metadata": {},
   "outputs": [
    {
     "name": "stdout",
     "output_type": "stream",
     "text": [
      "[1, 1, 1, 0, 2, 1, 0, 0, 1, 1]\n",
      "bot_guess=2, human_showed=1\n",
      "winner is bot\n",
      "[1, 1, 0, 2, 1, 0, 0, 1, 1, 2]\n",
      "bot_guess=2, human_showed=2\n",
      "winner is tie\n",
      "[1, 0, 2, 1, 0, 0, 1, 1, 2, 0]\n",
      "bot_guess=2, human_showed=0\n",
      "winner is human\n",
      "[0, 2, 1, 0, 0, 1, 1, 2, 0, 1]\n",
      "bot_guess=2, human_showed=1\n",
      "winner is bot\n",
      "[2, 1, 0, 0, 1, 1, 2, 0, 1, 0]\n",
      "bot_guess=0, human_showed=0\n",
      "winner is tie\n",
      "[1, 0, 0, 1, 1, 2, 0, 1, 0, 1]\n",
      "bot_guess=2, human_showed=1\n",
      "winner is bot\n",
      "[0, 0, 1, 1, 2, 0, 1, 0, 1, 0]\n",
      "bot_guess=0, human_showed=0\n",
      "winner is tie\n",
      "[0, 1, 1, 2, 0, 1, 0, 1, 0, 2]\n",
      "bot_guess=2, human_showed=2\n",
      "winner is tie\n",
      "Exiting...\n",
      "Thanku for playing this game.\n"
     ]
    }
   ],
   "source": [
    "# Game!\n",
    "lossi = []\n",
    "last_context = context[-1]\n",
    "while True:\n",
    "    # forward pass\n",
    "    Xb = torch.tensor(context)\n",
    "    hpreact = C[Xb].view(1, -1) @ W1 + bais1\n",
    "    h = hpreact.tanh()\n",
    "    logits = h @ W2\n",
    "    loss = torch.nn.functional.cross_entropy(logits, torch.tensor([last_context]))\n",
    "    probs = torch.nn.functional.softmax(logits, 1)\n",
    "    # Now main work!\n",
    "    bot_guess = torch.multinomial(probs, num_samples=move_to_guess)\n",
    "    human_showed = None\n",
    "\n",
    "    signal_exit = False\n",
    "    while True:\n",
    "        try:\n",
    "            human_showed = int(input(\"Enter(0.rock), (1.paper), (2.scissor): \"))\n",
    "            if human_showed not in [0, 1, 2]:\n",
    "                print(\"Ivalid!\")\n",
    "            else:\n",
    "                break\n",
    "        except Exception:\n",
    "            print(\"Exiting...\")\n",
    "            signal_exit = True\n",
    "            break\n",
    "    if signal_exit:\n",
    "        break\n",
    "\n",
    "    # rewarding_time (backward_pass)\n",
    "    for p in paramters:\n",
    "        p.grad = None\n",
    "    loss.backward()\n",
    "    last_context = human_showed\n",
    "    context = context[1:] + [last_context]\n",
    "\n",
    "    print(context)\n",
    "\n",
    "    # if the guess is correct improve the probability!\n",
    "    # idk but it works!\n",
    "    # revised version:\n",
    "    # lr = 0.1 if who_win[bot_guess[0,0]][human_showed] == 0 else -0.05\n",
    "    if bot_guess[0,0] == human_showed:\n",
    "        # tie\n",
    "        lr = 0.05\n",
    "    elif who_win[bot_guess[0,0]][human_showed] == 0:\n",
    "        # bot win\n",
    "        lr = 0.1\n",
    "    else:\n",
    "        # human win\n",
    "        lr = -0.05\n",
    "\n",
    "    # gradient clipping\n",
    "    torch.nn.utils.clip_grad_norm_(parameters=paramters, max_norm=1.0)\n",
    "\n",
    "    # update\n",
    "    for p in paramters:\n",
    "        p.data += -lr * p.grad\n",
    "\n",
    "    lossi.append(loss.log10())\n",
    "    print(f\"bot_guess={bot_guess[0,0]}, {human_showed=}\")\n",
    "    winner = \"tie\"\n",
    "    if who_win[bot_guess[0,0]][human_showed] == 0:\n",
    "        winner = \"bot\"\n",
    "    elif who_win[bot_guess[0,0]][human_showed] == 1:\n",
    "        winner = \"human\"\n",
    "    print(f\"winner is {winner}\")\n",
    "print(\"Thanku for playing this game.\")"
   ]
  }
 ],
 "metadata": {
  "kernelspec": {
   "display_name": "venv",
   "language": "python",
   "name": "python3"
  },
  "language_info": {
   "codemirror_mode": {
    "name": "ipython",
    "version": 3
   },
   "file_extension": ".py",
   "mimetype": "text/x-python",
   "name": "python",
   "nbconvert_exporter": "python",
   "pygments_lexer": "ipython3",
   "version": "3.11.0"
  }
 },
 "nbformat": 4,
 "nbformat_minor": 2
}
